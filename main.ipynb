{
 "cells": [
  {
   "cell_type": "markdown",
   "metadata": {},
   "source": [
    "## Import Library"
   ]
  },
  {
   "cell_type": "code",
   "execution_count": 5,
   "metadata": {},
   "outputs": [],
   "source": [
    "import torch\n",
    "from model.ResNet import resnet_model\n",
    "from model.CBAM import cbam_resnet_model\n",
    "\n",
    "from data_loader import DataLoaderWrapper\n",
    "from model.Hyperparameters import Hyperparameters as hp\n",
    "import matplotlib.pyplot as plt"
   ]
  },
  {
   "cell_type": "markdown",
   "metadata": {},
   "source": [
    "## Device configuration"
   ]
  },
  {
   "cell_type": "code",
   "execution_count": 6,
   "metadata": {},
   "outputs": [],
   "source": [
    "device = torch.device('cuda' if torch.cuda.is_available() else 'cpu')"
   ]
  },
  {
   "cell_type": "markdown",
   "metadata": {},
   "source": [
    "## Initialize data loaders"
   ]
  },
  {
   "cell_type": "code",
   "execution_count": 7,
   "metadata": {},
   "outputs": [
    {
     "name": "stdout",
     "output_type": "stream",
     "text": [
      "Files already downloaded and verified\n",
      "Number of training samples: 50000\n",
      "Files already downloaded and verified\n",
      "Number of test samples: 10000\n",
      "training Data shape: torch.Size([3, 32, 32])\n",
      "test Data shape: torch.Size([3, 32, 32])\n"
     ]
    }
   ],
   "source": [
    "data_loader = DataLoaderWrapper()\n",
    "train_loader = data_loader.train_loader\n",
    "val_loader = data_loader.val_loader\n",
    "test_loader = data_loader.test_loader"
   ]
  },
  {
   "cell_type": "markdown",
   "metadata": {},
   "source": [
    "## Initialize models"
   ]
  },
  {
   "cell_type": "code",
   "execution_count": 8,
   "metadata": {},
   "outputs": [],
   "source": [
    "resnet = resnet_model()\n",
    "cbam_resnet = cbam_resnet_model()\n",
    "# senet = senet_model()"
   ]
  },
  {
   "cell_type": "markdown",
   "metadata": {},
   "source": [
    "## Training Model"
   ]
  },
  {
   "cell_type": "markdown",
   "metadata": {},
   "source": [
    "### A. Training Baseline"
   ]
  },
  {
   "cell_type": "code",
   "execution_count": 9,
   "metadata": {},
   "outputs": [
    {
     "name": "stdout",
     "output_type": "stream",
     "text": [
      "Training ResNet Model\n"
     ]
    }
   ],
   "source": [
    "# Train ResNet\n",
    "print(\"Training ResNet Model\")\n",
    "resnet_metrics = resnet.fit(train_loader, val_loader, device)"
   ]
  },
  {
   "cell_type": "markdown",
   "metadata": {},
   "source": [
    "### B. Training CBAM"
   ]
  },
  {
   "cell_type": "code",
   "execution_count": null,
   "metadata": {},
   "outputs": [],
   "source": [
    "# Train CBAM ResNet\n",
    "print(\"Training CBAM ResNet Model\")\n",
    "cbam_metrics = cbam_resnet.fit(train_loader, val_loader, device)"
   ]
  },
  {
   "cell_type": "markdown",
   "metadata": {},
   "source": [
    "### C. Training SE-Net"
   ]
  },
  {
   "cell_type": "code",
   "execution_count": null,
   "metadata": {},
   "outputs": [],
   "source": []
  },
  {
   "cell_type": "markdown",
   "metadata": {},
   "source": [
    "## Evaluate models on test data\n"
   ]
  },
  {
   "cell_type": "code",
   "execution_count": null,
   "metadata": {},
   "outputs": [],
   "source": [
    "resnet_test_loss, resnet_test_acc = resnet.evaluate(test_loader, device)\n",
    "cbam_test_loss, cbam_test_acc = cbam_resnet.evaluate(test_loader, device)\n"
   ]
  },
  {
   "cell_type": "markdown",
   "metadata": {},
   "source": [
    "## Plot for training Result"
   ]
  },
  {
   "cell_type": "code",
   "execution_count": null,
   "metadata": {},
   "outputs": [],
   "source": [
    "# Compare results\n",
    "# Plot training and validation losses\n",
    "plt.figure(figsize=(15, 5))\n",
    "plt.subplot(1, 2, 1)\n",
    "plt.plot(resnet_metrics['train_losses'], label='ResNet Train Loss')\n",
    "plt.plot(resnet_metrics['val_losses'], label='ResNet Val Loss')\n",
    "plt.plot(cbam_metrics['train_losses'], label='CBAM ResNet Train Loss')\n",
    "plt.plot(cbam_metrics['val_losses'], label='CBAM ResNet Val Loss')\n",
    "plt.xlabel('Epoch')\n",
    "plt.ylabel('Loss')\n",
    "plt.legend()\n",
    "plt.title('Training and Validation Losses')\n",
    "\n",
    "# Plot training and validation accuracies\n",
    "plt.subplot(1, 2, 2)\n",
    "plt.plot(resnet_metrics['train_accuracies'], label='ResNet Train Acc')\n",
    "plt.plot(resnet_metrics['val_accuracies'], label='ResNet Val Acc')\n",
    "plt.plot(cbam_metrics['train_accuracies'], label='CBAM ResNet Train Acc')\n",
    "plt.plot(cbam_metrics['val_accuracies'], label='CBAM ResNet Val Acc')\n",
    "plt.xlabel('Epoch')\n",
    "plt.ylabel('Accuracy')\n",
    "plt.legend()\n",
    "plt.title('Training and Validation Accuracies')\n",
    "\n",
    "plt.tight_layout()\n",
    "plt.show()"
   ]
  },
  {
   "cell_type": "markdown",
   "metadata": {},
   "source": [
    "## test accuracy"
   ]
  },
  {
   "cell_type": "code",
   "execution_count": null,
   "metadata": {},
   "outputs": [],
   "source": [
    "# Print test accuracies\n",
    "print(f'ResNet Test Accuracy: {resnet_test_acc:.4f}')\n",
    "print(f'CBAM ResNet Test Accuracy: {cbam_test_acc:.4f}')"
   ]
  }
 ],
 "metadata": {
  "kernelspec": {
   "display_name": "Python 3",
   "language": "python",
   "name": "python3"
  },
  "language_info": {
   "codemirror_mode": {
    "name": "ipython",
    "version": 3
   },
   "file_extension": ".py",
   "mimetype": "text/x-python",
   "name": "python",
   "nbconvert_exporter": "python",
   "pygments_lexer": "ipython3",
   "version": "3.9.6"
  }
 },
 "nbformat": 4,
 "nbformat_minor": 2
}
